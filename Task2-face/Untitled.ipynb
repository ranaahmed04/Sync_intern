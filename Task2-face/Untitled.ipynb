{
 "cells": [
  {
   "cell_type": "code",
   "execution_count": 33,
   "id": "cbc1fba1",
   "metadata": {},
   "outputs": [],
   "source": [
    "import pandas as pd\n",
    "import numpy as np\n",
    "import os\n",
    "import cv2\n",
    "from keras.preprocessing.image import ImageDataGenerator\n",
    "import matplotlib.pyplot as plt\n",
    "from keras.applications.vgg19 import VGG19\n",
    "from keras.applications.vgg19 import preprocess_input\n",
    "import keras.backend as k\n",
    "from keras.layers import Conv2D,MaxPooling2D,SpatialDropout2D,Flatten,Dropout,Dense\n",
    "from keras.models import Sequential,load_model\n",
    "from keras.optimizers import Adam\n",
    "from keras.preprocessing import image\n",
    "from keras import Sequential\n",
    "from keras.layers import Flatten, Dense\n",
    "from math import ceil\n",
    "from tensorflow.keras.models import load_model\n",
    "\n",
    "import datetime\n"
   ]
  },
  {
   "cell_type": "markdown",
   "metadata": {},
   "source": [
    "Laoding data set "
   ]
  },
  {
   "cell_type": "code",
   "execution_count": 34,
   "metadata": {},
   "outputs": [],
   "source": [
    "Train_data_mask = r\"C:\\Users\\rana ahmed\\Documents\\Sync intern\\Task2-face\\New combine Face Mask Dataset\\Train\"\n",
    "Test_data =r\"C:\\Users\\rana ahmed\\Documents\\Sync intern\\Task2-face\\New combine Face Mask Dataset\\Test\"\n",
    "Validate_data = r\"C:\\Users\\rana ahmed\\Documents\\Sync intern\\Task2-face\\New combine Face Mask Dataset\\Validation\"\n"
   ]
  },
  {
   "cell_type": "markdown",
   "metadata": {},
   "source": [
    "Appling data augmentation"
   ]
  },
  {
   "cell_type": "code",
   "execution_count": 44,
   "metadata": {},
   "outputs": [
    {
     "name": "stdout",
     "output_type": "stream",
     "text": [
      "Found 10597 images belonging to 2 classes.\n",
      "Found 1106 images belonging to 2 classes.\n",
      "Found 1092 images belonging to 2 classes.\n"
     ]
    }
   ],
   "source": [
    "train_datagen = ImageDataGenerator(rescale=1.0/255, horizontal_flip=True, zoom_range=0.2,shear_range=0.2)\n",
    "train_data=train_datagen.flow_from_directory(directory=Train_data_mask,target_size=(128,128), class_mode='categorical',batch_size=32)\n",
    "\n",
    "val_datagen = ImageDataGenerator(rescale=1.0/255)\n",
    "val_generator = train_datagen.flow_from_directory(directory=Validate_data, target_size=(128,128),class_mode='categorical', batch_size=32)\n",
    "\n",
    "test_datagen = ImageDataGenerator(rescale=1.0/255)\n",
    "test_generator = train_datagen.flow_from_directory(directory=Test_data,target_size=(128,128),class_mode='categorical',batch_size=32)"
   ]
  },
  {
   "cell_type": "markdown",
   "metadata": {},
   "source": [
    "Defining the model "
   ]
  },
  {
   "cell_type": "code",
   "execution_count": 48,
   "metadata": {},
   "outputs": [
    {
     "name": "stdout",
     "output_type": "stream",
     "text": [
      "Downloading data from https://storage.googleapis.com/tensorflow/keras-applications/vgg19/vgg19_weights_tf_dim_ordering_tf_kernels_notop.h5\n",
      "80134624/80134624 [==============================] - 293s 4us/step\n"
     ]
    }
   ],
   "source": [
    "#VGG19 model\n",
    "model_file = '.h5'\n",
    "\n",
    "if os.path.exists(model_file):\n",
    "    model=load_model(model_file)\n",
    "else:    \n",
    "    vgg19 = VGG19(weights='imagenet',include_top=False,input_shape=(128,128,3))\n",
    "\n",
    "    for layer in vgg19.layers:\n",
    "        layer.trainable = False\n",
    "\n",
    "    model = Sequential()\n",
    "    model.add(vgg19)\n",
    "    model.add(Flatten())\n",
    "    model.add(Dense(2, activation = \"sigmoid\"))\n",
    "    "
   ]
  },
  {
   "cell_type": "code",
   "execution_count": 49,
   "metadata": {},
   "outputs": [
    {
     "name": "stdout",
     "output_type": "stream",
     "text": [
      "Model: \"sequential_8\"\n",
      "_________________________________________________________________\n",
      " Layer (type)                Output Shape              Param #   \n",
      "=================================================================\n",
      " vgg19 (Functional)          (None, 4, 4, 512)         20024384  \n",
      "                                                                 \n",
      " flatten_7 (Flatten)         (None, 8192)              0         \n",
      "                                                                 \n",
      " dense_14 (Dense)            (None, 2)                 16386     \n",
      "                                                                 \n",
      "=================================================================\n",
      "Total params: 20,040,770\n",
      "Trainable params: 16,386\n",
      "Non-trainable params: 20,024,384\n",
      "_________________________________________________________________\n"
     ]
    }
   ],
   "source": [
    "model.compile(optimizer='adam',loss='binary_crossentropy',metrics=['accuracy'])\n",
    "\n",
    "model.summary()"
   ]
  },
  {
   "cell_type": "code",
   "execution_count": 50,
   "metadata": {},
   "outputs": [
    {
     "name": "stderr",
     "output_type": "stream",
     "text": [
      "C:\\Users\\rana ahmed\\AppData\\Local\\Temp\\ipykernel_24868\\1534015927.py:5: UserWarning: `Model.fit_generator` is deprecated and will be removed in a future version. Please use `Model.fit`, which supports generators.\n",
      "  history = model.fit_generator(generator=train_data,steps_per_epoch=train_steps_per_epoch,epochs=20,validation_data=val_generator, validation_steps=val_steps_per_epoch)\n"
     ]
    },
    {
     "name": "stdout",
     "output_type": "stream",
     "text": [
      "Epoch 1/20\n",
      "11/11 [==============================] - 26s 2s/step - loss: 0.5173 - accuracy: 0.7472 - val_loss: 0.3757 - val_accuracy: 0.8594\n",
      "Epoch 2/20\n",
      "11/11 [==============================] - 24s 2s/step - loss: 0.3076 - accuracy: 0.8807 - val_loss: 0.2414 - val_accuracy: 0.9219\n",
      "Epoch 3/20\n",
      "11/11 [==============================] - 24s 2s/step - loss: 0.2330 - accuracy: 0.9233 - val_loss: 0.2022 - val_accuracy: 0.9062\n",
      "Epoch 4/20\n",
      "11/11 [==============================] - 24s 2s/step - loss: 0.1768 - accuracy: 0.9403 - val_loss: 0.1879 - val_accuracy: 0.9531\n",
      "Epoch 5/20\n",
      "11/11 [==============================] - 24s 2s/step - loss: 0.1792 - accuracy: 0.9347 - val_loss: 0.1516 - val_accuracy: 0.9375\n",
      "Epoch 6/20\n",
      "11/11 [==============================] - 24s 2s/step - loss: 0.1412 - accuracy: 0.9489 - val_loss: 0.1507 - val_accuracy: 0.9531\n",
      "Epoch 7/20\n",
      "11/11 [==============================] - 26s 2s/step - loss: 0.1496 - accuracy: 0.9545 - val_loss: 0.1807 - val_accuracy: 0.9531\n",
      "Epoch 8/20\n",
      "11/11 [==============================] - 24s 2s/step - loss: 0.1678 - accuracy: 0.9323 - val_loss: 0.0616 - val_accuracy: 1.0000\n",
      "Epoch 9/20\n",
      "11/11 [==============================] - 24s 2s/step - loss: 0.1165 - accuracy: 0.9602 - val_loss: 0.0721 - val_accuracy: 0.9844\n",
      "Epoch 10/20\n",
      "11/11 [==============================] - 24s 2s/step - loss: 0.1041 - accuracy: 0.9688 - val_loss: 0.1011 - val_accuracy: 0.9844\n",
      "Epoch 11/20\n",
      "11/11 [==============================] - 24s 2s/step - loss: 0.0947 - accuracy: 0.9801 - val_loss: 0.0950 - val_accuracy: 0.9531\n",
      "Epoch 12/20\n",
      "11/11 [==============================] - 24s 2s/step - loss: 0.1078 - accuracy: 0.9716 - val_loss: 0.1921 - val_accuracy: 0.9062\n",
      "Epoch 13/20\n",
      "11/11 [==============================] - 25s 2s/step - loss: 0.0947 - accuracy: 0.9631 - val_loss: 0.0819 - val_accuracy: 0.9844\n",
      "Epoch 14/20\n",
      "11/11 [==============================] - 24s 2s/step - loss: 0.1155 - accuracy: 0.9602 - val_loss: 0.1218 - val_accuracy: 0.9375\n",
      "Epoch 15/20\n",
      "11/11 [==============================] - 24s 2s/step - loss: 0.0862 - accuracy: 0.9801 - val_loss: 0.0941 - val_accuracy: 0.9844\n",
      "Epoch 16/20\n",
      "11/11 [==============================] - 23s 2s/step - loss: 0.0809 - accuracy: 0.9801 - val_loss: 0.0672 - val_accuracy: 1.0000\n",
      "Epoch 17/20\n",
      "11/11 [==============================] - 24s 2s/step - loss: 0.0760 - accuracy: 0.9830 - val_loss: 0.0860 - val_accuracy: 0.9688\n",
      "Epoch 18/20\n",
      "11/11 [==============================] - 24s 2s/step - loss: 0.0802 - accuracy: 0.9716 - val_loss: 0.0924 - val_accuracy: 0.9531\n",
      "Epoch 19/20\n",
      "11/11 [==============================] - 24s 2s/step - loss: 0.0730 - accuracy: 0.9744 - val_loss: 0.1342 - val_accuracy: 0.9375\n",
      "Epoch 20/20\n",
      "11/11 [==============================] - 24s 2s/step - loss: 0.0752 - accuracy: 0.9773 - val_loss: 0.1640 - val_accuracy: 0.9219\n"
     ]
    }
   ],
   "source": [
    "#Training\n",
    "train_steps_per_epoch = ceil(len(train_data) / 32)\n",
    "val_steps_per_epoch = ceil(len(val_generator) / 32)\n",
    "\n",
    "history = model.fit_generator(generator=train_data,steps_per_epoch=train_steps_per_epoch,epochs=20,validation_data=val_generator, validation_steps=val_steps_per_epoch)"
   ]
  },
  {
   "cell_type": "code",
   "execution_count": 51,
   "metadata": {},
   "outputs": [
    {
     "name": "stdout",
     "output_type": "stream",
     "text": [
      "35/35 [==============================] - 65s 2s/step - loss: 0.0749 - accuracy: 0.9753\n"
     ]
    },
    {
     "data": {
      "text/plain": [
       "[0.0749480277299881, 0.9752747416496277]"
      ]
     },
     "execution_count": 51,
     "metadata": {},
     "output_type": "execute_result"
    }
   ],
   "source": [
    "model.evaluate(test_generator)"
   ]
  },
  {
   "cell_type": "code",
   "execution_count": 52,
   "metadata": {},
   "outputs": [],
   "source": [
    "model.save('MaskDetectionModel.h5')"
   ]
  }
 ],
 "metadata": {
  "kernelspec": {
   "display_name": "Python 3 (ipykernel)",
   "language": "python",
   "name": "python3"
  },
  "language_info": {
   "codemirror_mode": {
    "name": "ipython",
    "version": 3
   },
   "file_extension": ".py",
   "mimetype": "text/x-python",
   "name": "python",
   "nbconvert_exporter": "python",
   "pygments_lexer": "ipython3",
   "version": "3.11.0"
  }
 },
 "nbformat": 4,
 "nbformat_minor": 5
}
